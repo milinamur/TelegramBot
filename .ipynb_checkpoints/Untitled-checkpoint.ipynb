{
 "cells": [
  {
   "cell_type": "markdown",
   "id": "03412aea",
   "metadata": {},
   "source": [
    "## Задание:\n",
    "\n",
    "Варианты использования телеграм-бота:\n",
    "\n",
    "Запись:\n",
    "- запись новых слов (последовательно вводить слово и перевод)\n",
    "- запись информации об учебниках/материалах (вводить название материала, ссылку, если есть, и оценку)\n",
    "- запись информации об уроках (вводить дату урока, пройденные темы, оценку сложности) [опционально]\n",
    "\n",
    "Вывод:\n",
    "- вывод слова с переводом\n",
    "- тест (написание перевода)\n",
    "- вывод всей литературы с оценками\n",
    "\n",
    "Требования:\n",
    "- минимум 4 различных команды\n",
    "-- min 2 команды на ввод информации\n",
    "-- min 2 команды на вывод информации\n",
    "- использование кастомной клавиатуры\n",
    "- использование вёрстки в сообщениях (жирный, курсивный текст, ссылки)\n"
   ]
  },
  {
   "cell_type": "markdown",
   "id": "adfe5b78",
   "metadata": {},
   "source": [
    "## Информация о боте:\n",
    "\n",
    "You will find it at t.me/MySimpleEngBot.\n",
    "\n",
    "**Use this token to access the HTTP API:**\n",
    "6034039838:AAEQNU7gnv6L9NVDOBae_q__SnTPE-3Tim8\n",
    "\n",
    "For a description of the Bot API, see this page: https://core.telegram.org/bots/api"
   ]
  },
  {
   "cell_type": "code",
   "execution_count": 1,
   "id": "066a9910",
   "metadata": {},
   "outputs": [
    {
     "name": "stdout",
     "output_type": "stream",
     "text": [
      "Collecting telebot\n",
      "  Downloading telebot-0.0.5-py3-none-any.whl (4.8 kB)\n",
      "Requirement already satisfied: requests in c:\\users\\shubi\\anaconda3\\lib\\site-packages (from telebot) (2.27.1)\n",
      "Collecting pyTelegramBotAPI\n",
      "  Downloading pyTelegramBotAPI-4.11.0.tar.gz (230 kB)\n",
      "Requirement already satisfied: charset-normalizer~=2.0.0 in c:\\users\\shubi\\anaconda3\\lib\\site-packages (from requests->telebot) (2.0.4)\n",
      "Requirement already satisfied: urllib3<1.27,>=1.21.1 in c:\\users\\shubi\\anaconda3\\lib\\site-packages (from requests->telebot) (1.26.12)\n",
      "Requirement already satisfied: certifi>=2017.4.17 in c:\\users\\shubi\\anaconda3\\lib\\site-packages (from requests->telebot) (2021.10.8)\n",
      "Requirement already satisfied: idna<4,>=2.5 in c:\\users\\shubi\\anaconda3\\lib\\site-packages (from requests->telebot) (3.3)\n",
      "Building wheels for collected packages: pyTelegramBotAPI\n",
      "  Building wheel for pyTelegramBotAPI (setup.py): started\n",
      "  Building wheel for pyTelegramBotAPI (setup.py): finished with status 'done'\n",
      "  Created wheel for pyTelegramBotAPI: filename=pyTelegramBotAPI-4.11.0-py3-none-any.whl size=212396 sha256=2574e3a207cfa6325628f8c72393b8b433a1900f331b627b2a51fb7960a2bfee\n",
      "  Stored in directory: c:\\users\\shubi\\appdata\\local\\pip\\cache\\wheels\\19\\00\\29\\5a29bbb5ebced37cb04e5d93102dd62e765f7a4e9ca3481036\n",
      "Successfully built pyTelegramBotAPI\n",
      "Installing collected packages: pyTelegramBotAPI, telebot\n",
      "Successfully installed pyTelegramBotAPI-4.11.0 telebot-0.0.5\n"
     ]
    }
   ],
   "source": [
    "!pip install telebot"
   ]
  },
  {
   "cell_type": "code",
   "execution_count": 1,
   "id": "80fa741f",
   "metadata": {},
   "outputs": [],
   "source": [
    "import telebot\n",
    "bot = telebot.TeleBot('6034039838:AAEQNU7gnv6L9NVDOBae_q__SnTPE-3Tim8')"
   ]
  },
  {
   "cell_type": "code",
   "execution_count": 2,
   "id": "d7240ae8",
   "metadata": {},
   "outputs": [],
   "source": [
    "def print_help():\n",
    "    text = \"\"\"Я помогу тебе с изучением английских слов.\n",
    "    \n",
    "Ты можешь использовать следующие команды:\n",
    "\n",
    "*Перевод английских слов*\n",
    "/add_word - добавить новое слово в словарь\n",
    "/check_translate - проверить себя\n",
    "/count_words - вывести количество слов в словаре\n",
    "\n",
    "*Информация о литературе*\n",
    "/add_book - добавить информацию о книге\n",
    "/my_books - вывести информацию о литературе\n",
    "\"\"\"\n",
    "    return text"
   ]
  },
  {
   "cell_type": "code",
   "execution_count": 3,
   "id": "994fda64",
   "metadata": {},
   "outputs": [],
   "source": [
    "@bot.message_handler(content_types=['text']) # наш бот будет обрабатывать только текст\n",
    "\n",
    "def get_text_messages(message):\n",
    "    if message.text == \"Привет\":\n",
    "        bot.send_message(message.from_user.id, \"Привет, чем я могу тебе помочь?\")\n",
    "    elif message.text == \"/help\":\n",
    "        bot.send_message(message.from_user.id, print_help())\n",
    "    else:\n",
    "        bot.send_message(message.from_user.id, \"Я тебя не понимаю. Напиши /help.\")"
   ]
  },
  {
   "cell_type": "code",
   "execution_count": 4,
   "id": "d9e9d40a",
   "metadata": {},
   "outputs": [],
   "source": [
    "bot.polling(none_stop=True, interval=0)"
   ]
  },
  {
   "cell_type": "code",
   "execution_count": null,
   "id": "449cd92f",
   "metadata": {},
   "outputs": [],
   "source": []
  }
 ],
 "metadata": {
  "kernelspec": {
   "display_name": "Python 3 (ipykernel)",
   "language": "python",
   "name": "python3"
  },
  "language_info": {
   "codemirror_mode": {
    "name": "ipython",
    "version": 3
   },
   "file_extension": ".py",
   "mimetype": "text/x-python",
   "name": "python",
   "nbconvert_exporter": "python",
   "pygments_lexer": "ipython3",
   "version": "3.9.12"
  }
 },
 "nbformat": 4,
 "nbformat_minor": 5
}
