{
 "cells": [
  {
   "cell_type": "markdown",
   "id": "824fff68",
   "metadata": {},
   "source": [
    "## Задание:\n",
    "\n",
    "Варианты использования телеграм-бота:\n",
    "\n",
    "Запись:\n",
    "- запись новых слов (последовательно вводить слово и перевод)\n",
    "- запись информации об учебниках/материалах (вводить название материала, ссылку, если есть, и оценку)\n",
    "- запись информации об уроках (вводить дату урока, пройденные темы, оценку сложности) [опционально]\n",
    "\n",
    "Вывод:\n",
    "- вывод слова с переводом\n",
    "- тест (написание перевода)\n",
    "- вывод всей литературы с оценками\n",
    "\n",
    "Требования:\n",
    "- минимум 4 различных команды\n",
    "-- min 2 команды на ввод информации\n",
    "-- min 2 команды на вывод информации\n",
    "- использование кастомной клавиатуры\n",
    "- использование вёрстки в сообщениях (жирный, курсивный текст, ссылки)\n"
   ]
  },
  {
   "cell_type": "markdown",
   "id": "337c592d",
   "metadata": {},
   "source": [
    "## Информация о боте:\n",
    "\n",
    "You will find it at t.me/MySimpleEngBot.\n",
    "\n",
    "**Use this token to access the HTTP API:**\n",
    "6034039838:AAEQNU7gnv6L9NVDOBae_q__SnTPE-3Tim8\n",
    "\n",
    "For a description of the Bot API, see this page: https://core.telegram.org/bots/api"
   ]
  },
  {
   "cell_type": "code",
   "execution_count": 1,
   "id": "e0475aee",
   "metadata": {},
   "outputs": [
    {
     "name": "stdout",
     "output_type": "stream",
     "text": [
      "Collecting telebot\n",
      "  Downloading telebot-0.0.5-py3-none-any.whl (4.8 kB)\n",
      "Requirement already satisfied: requests in c:\\users\\shubi\\anaconda3\\lib\\site-packages (from telebot) (2.27.1)\n",
      "Collecting pyTelegramBotAPI\n",
      "  Downloading pyTelegramBotAPI-4.11.0.tar.gz (230 kB)\n",
      "Requirement already satisfied: charset-normalizer~=2.0.0 in c:\\users\\shubi\\anaconda3\\lib\\site-packages (from requests->telebot) (2.0.4)\n",
      "Requirement already satisfied: urllib3<1.27,>=1.21.1 in c:\\users\\shubi\\anaconda3\\lib\\site-packages (from requests->telebot) (1.26.12)\n",
      "Requirement already satisfied: certifi>=2017.4.17 in c:\\users\\shubi\\anaconda3\\lib\\site-packages (from requests->telebot) (2021.10.8)\n",
      "Requirement already satisfied: idna<4,>=2.5 in c:\\users\\shubi\\anaconda3\\lib\\site-packages (from requests->telebot) (3.3)\n",
      "Building wheels for collected packages: pyTelegramBotAPI\n",
      "  Building wheel for pyTelegramBotAPI (setup.py): started\n",
      "  Building wheel for pyTelegramBotAPI (setup.py): finished with status 'done'\n",
      "  Created wheel for pyTelegramBotAPI: filename=pyTelegramBotAPI-4.11.0-py3-none-any.whl size=212396 sha256=2574e3a207cfa6325628f8c72393b8b433a1900f331b627b2a51fb7960a2bfee\n",
      "  Stored in directory: c:\\users\\shubi\\appdata\\local\\pip\\cache\\wheels\\19\\00\\29\\5a29bbb5ebced37cb04e5d93102dd62e765f7a4e9ca3481036\n",
      "Successfully built pyTelegramBotAPI\n",
      "Installing collected packages: pyTelegramBotAPI, telebot\n",
      "Successfully installed pyTelegramBotAPI-4.11.0 telebot-0.0.5\n"
     ]
    }
   ],
   "source": [
    "!pip install telebot"
   ]
  },
  {
   "cell_type": "code",
   "execution_count": 1,
   "id": "552f6368",
   "metadata": {},
   "outputs": [],
   "source": [
    "import telebot\n",
    "bot = telebot.TeleBot('6034039838:AAEQNU7gnv6L9NVDOBae_q__SnTPE-3Tim8')"
   ]
  },
  {
   "cell_type": "code",
   "execution_count": 3,
   "id": "b68e516d",
   "metadata": {},
   "outputs": [],
   "source": [
    "def print_help():\n",
    "    text = \"\"\"Я помогу тебе с изучением английских слов.\n",
    "    \n",
    "Ты можешь использовать следующие команды:\n",
    "\n",
    "*Перевод английских слов*\n",
    "/add\\_word - добавить новое слово в словарь\n",
    "/check\\_translate - проверить себя\n",
    "/count\\_words - вывести количество слов в словаре\n",
    "\n",
    "*Информация о литературе*\n",
    "/add\\_book - добавить информацию о книге\n",
    "/my\\_books - вывести информацию о литературе\n",
    "\"\"\"\n",
    "    return text"
   ]
  },
  {
   "cell_type": "code",
   "execution_count": 2,
   "id": "f4ea3435",
   "metadata": {},
   "outputs": [
    {
     "ename": "NameError",
     "evalue": "name 'bot' is not defined",
     "output_type": "error",
     "traceback": [
      "\u001b[1;31m---------------------------------------------------------------------------\u001b[0m",
      "\u001b[1;31mNameError\u001b[0m                                 Traceback (most recent call last)",
      "Input \u001b[1;32mIn [2]\u001b[0m, in \u001b[0;36m<cell line: 1>\u001b[1;34m()\u001b[0m\n\u001b[1;32m----> 1\u001b[0m \u001b[38;5;129m@bot\u001b[39m\u001b[38;5;241m.\u001b[39mmessage_handler(content_types\u001b[38;5;241m=\u001b[39m[\u001b[38;5;124m'\u001b[39m\u001b[38;5;124mtext\u001b[39m\u001b[38;5;124m'\u001b[39m]) \u001b[38;5;66;03m# наш бот будет обрабатывать только текст\u001b[39;00m\n\u001b[0;32m      2\u001b[0m \n\u001b[0;32m      3\u001b[0m \u001b[38;5;28;01mdef\u001b[39;00m \u001b[38;5;21mget_text_messages\u001b[39m(message):\n\u001b[0;32m      4\u001b[0m     \u001b[38;5;28;01mif\u001b[39;00m message\u001b[38;5;241m.\u001b[39mtext \u001b[38;5;241m==\u001b[39m \u001b[38;5;124m\"\u001b[39m\u001b[38;5;124mПривет\u001b[39m\u001b[38;5;124m\"\u001b[39m:\n\u001b[0;32m      5\u001b[0m         bot\u001b[38;5;241m.\u001b[39msend_message(message\u001b[38;5;241m.\u001b[39mfrom_user\u001b[38;5;241m.\u001b[39mid, \u001b[38;5;124m\"\u001b[39m\u001b[38;5;124mПривет, чем я могу тебе помочь?\u001b[39m\u001b[38;5;124m\"\u001b[39m)\n",
      "\u001b[1;31mNameError\u001b[0m: name 'bot' is not defined"
     ]
    }
   ],
   "source": [
    "@bot.message_handler(content_types=['text']) # наш бот будет обрабатывать только текст\n",
    "\n",
    "def get_text_messages(message):\n",
    "    if message.text == \"Привет\":\n",
    "        bot.send_message(message.from_user.id, \"Привет, чем я могу тебе помочь?\")\n",
    "    elif message.text == \"/help\":\n",
    "        bot.send_message(message.from_user.id, print_help(), parse_mode=\"Markdown\")\n",
    "    else:\n",
    "        bot.send_message(message.from_user.id, \"Я тебя не понимаю. Напиши /help.\")"
   ]
  },
  {
   "cell_type": "code",
   "execution_count": 4,
   "id": "fa5ea88c",
   "metadata": {},
   "outputs": [
    {
     "name": "stderr",
     "output_type": "stream",
     "text": [
      "2023-05-02 10:30:57,456 (__init__.py:1083 MainThread) ERROR - TeleBot: \"Threaded polling exception: A request to the Telegram API was unsuccessful. Error code: 409. Description: Conflict: terminated by other getUpdates request; make sure that only one bot instance is running\"\n",
      "2023-05-02 10:30:57,482 (__init__.py:1085 MainThread) ERROR - TeleBot: \"Exception traceback:\n",
      "Traceback (most recent call last):\n",
      "  File \"C:\\Users\\shubi\\anaconda3\\lib\\site-packages\\telebot\\__init__.py\", line 1073, in __threaded_polling\n",
      "    polling_thread.raise_exceptions()\n",
      "  File \"C:\\Users\\shubi\\anaconda3\\lib\\site-packages\\telebot\\util.py\", line 108, in raise_exceptions\n",
      "    raise self.exception_info\n",
      "  File \"C:\\Users\\shubi\\anaconda3\\lib\\site-packages\\telebot\\util.py\", line 90, in run\n",
      "    task(*args, **kwargs)\n",
      "  File \"C:\\Users\\shubi\\anaconda3\\lib\\site-packages\\telebot\\__init__.py\", line 649, in __retrieve_updates\n",
      "    updates = self.get_updates(offset=(self.last_update_id + 1),\n",
      "  File \"C:\\Users\\shubi\\anaconda3\\lib\\site-packages\\telebot\\__init__.py\", line 623, in get_updates\n",
      "    json_updates = apihelper.get_updates(self.token, offset, limit, timeout, allowed_updates, long_polling_timeout)\n",
      "  File \"C:\\Users\\shubi\\anaconda3\\lib\\site-packages\\telebot\\apihelper.py\", line 321, in get_updates\n",
      "    return _make_request(token, method_url, params=payload)\n",
      "  File \"C:\\Users\\shubi\\anaconda3\\lib\\site-packages\\telebot\\apihelper.py\", line 162, in _make_request\n",
      "    json_result = _check_result(method_name, result)\n",
      "  File \"C:\\Users\\shubi\\anaconda3\\lib\\site-packages\\telebot\\apihelper.py\", line 189, in _check_result\n",
      "    raise ApiTelegramException(method_name, result, result_json)\n",
      "telebot.apihelper.ApiTelegramException: A request to the Telegram API was unsuccessful. Error code: 409. Description: Conflict: terminated by other getUpdates request; make sure that only one bot instance is running\n",
      "\"\n",
      "2023-05-02 10:31:01,113 (__init__.py:1083 MainThread) ERROR - TeleBot: \"Threaded polling exception: A request to the Telegram API was unsuccessful. Error code: 409. Description: Conflict: terminated by other getUpdates request; make sure that only one bot instance is running\"\n",
      "2023-05-02 10:31:01,114 (__init__.py:1085 MainThread) ERROR - TeleBot: \"Exception traceback:\n",
      "Traceback (most recent call last):\n",
      "  File \"C:\\Users\\shubi\\anaconda3\\lib\\site-packages\\telebot\\__init__.py\", line 1073, in __threaded_polling\n",
      "    polling_thread.raise_exceptions()\n",
      "  File \"C:\\Users\\shubi\\anaconda3\\lib\\site-packages\\telebot\\util.py\", line 108, in raise_exceptions\n",
      "    raise self.exception_info\n",
      "  File \"C:\\Users\\shubi\\anaconda3\\lib\\site-packages\\telebot\\util.py\", line 90, in run\n",
      "    task(*args, **kwargs)\n",
      "  File \"C:\\Users\\shubi\\anaconda3\\lib\\site-packages\\telebot\\__init__.py\", line 649, in __retrieve_updates\n",
      "    updates = self.get_updates(offset=(self.last_update_id + 1),\n",
      "  File \"C:\\Users\\shubi\\anaconda3\\lib\\site-packages\\telebot\\__init__.py\", line 623, in get_updates\n",
      "    json_updates = apihelper.get_updates(self.token, offset, limit, timeout, allowed_updates, long_polling_timeout)\n",
      "  File \"C:\\Users\\shubi\\anaconda3\\lib\\site-packages\\telebot\\apihelper.py\", line 321, in get_updates\n",
      "    return _make_request(token, method_url, params=payload)\n",
      "  File \"C:\\Users\\shubi\\anaconda3\\lib\\site-packages\\telebot\\apihelper.py\", line 162, in _make_request\n",
      "    json_result = _check_result(method_name, result)\n",
      "  File \"C:\\Users\\shubi\\anaconda3\\lib\\site-packages\\telebot\\apihelper.py\", line 189, in _check_result\n",
      "    raise ApiTelegramException(method_name, result, result_json)\n",
      "telebot.apihelper.ApiTelegramException: A request to the Telegram API was unsuccessful. Error code: 409. Description: Conflict: terminated by other getUpdates request; make sure that only one bot instance is running\n",
      "\"\n",
      "2023-05-02 10:31:05,385 (__init__.py:1083 MainThread) ERROR - TeleBot: \"Threaded polling exception: A request to the Telegram API was unsuccessful. Error code: 409. Description: Conflict: terminated by other getUpdates request; make sure that only one bot instance is running\"\n",
      "2023-05-02 10:31:05,388 (__init__.py:1085 MainThread) ERROR - TeleBot: \"Exception traceback:\n",
      "Traceback (most recent call last):\n",
      "  File \"C:\\Users\\shubi\\anaconda3\\lib\\site-packages\\telebot\\__init__.py\", line 1073, in __threaded_polling\n",
      "    polling_thread.raise_exceptions()\n",
      "  File \"C:\\Users\\shubi\\anaconda3\\lib\\site-packages\\telebot\\util.py\", line 108, in raise_exceptions\n",
      "    raise self.exception_info\n",
      "  File \"C:\\Users\\shubi\\anaconda3\\lib\\site-packages\\telebot\\util.py\", line 90, in run\n",
      "    task(*args, **kwargs)\n",
      "  File \"C:\\Users\\shubi\\anaconda3\\lib\\site-packages\\telebot\\__init__.py\", line 649, in __retrieve_updates\n",
      "    updates = self.get_updates(offset=(self.last_update_id + 1),\n",
      "  File \"C:\\Users\\shubi\\anaconda3\\lib\\site-packages\\telebot\\__init__.py\", line 623, in get_updates\n",
      "    json_updates = apihelper.get_updates(self.token, offset, limit, timeout, allowed_updates, long_polling_timeout)\n",
      "  File \"C:\\Users\\shubi\\anaconda3\\lib\\site-packages\\telebot\\apihelper.py\", line 321, in get_updates\n",
      "    return _make_request(token, method_url, params=payload)\n",
      "  File \"C:\\Users\\shubi\\anaconda3\\lib\\site-packages\\telebot\\apihelper.py\", line 162, in _make_request\n",
      "    json_result = _check_result(method_name, result)\n",
      "  File \"C:\\Users\\shubi\\anaconda3\\lib\\site-packages\\telebot\\apihelper.py\", line 189, in _check_result\n",
      "    raise ApiTelegramException(method_name, result, result_json)\n",
      "telebot.apihelper.ApiTelegramException: A request to the Telegram API was unsuccessful. Error code: 409. Description: Conflict: terminated by other getUpdates request; make sure that only one bot instance is running\n",
      "\"\n",
      "2023-05-02 10:31:10,515 (__init__.py:1083 MainThread) ERROR - TeleBot: \"Threaded polling exception: A request to the Telegram API was unsuccessful. Error code: 409. Description: Conflict: terminated by other getUpdates request; make sure that only one bot instance is running\"\n",
      "2023-05-02 10:31:10,517 (__init__.py:1085 MainThread) ERROR - TeleBot: \"Exception traceback:\n",
      "Traceback (most recent call last):\n",
      "  File \"C:\\Users\\shubi\\anaconda3\\lib\\site-packages\\telebot\\__init__.py\", line 1073, in __threaded_polling\n",
      "    polling_thread.raise_exceptions()\n",
      "  File \"C:\\Users\\shubi\\anaconda3\\lib\\site-packages\\telebot\\util.py\", line 108, in raise_exceptions\n",
      "    raise self.exception_info\n",
      "  File \"C:\\Users\\shubi\\anaconda3\\lib\\site-packages\\telebot\\util.py\", line 90, in run\n",
      "    task(*args, **kwargs)\n",
      "  File \"C:\\Users\\shubi\\anaconda3\\lib\\site-packages\\telebot\\__init__.py\", line 649, in __retrieve_updates\n",
      "    updates = self.get_updates(offset=(self.last_update_id + 1),\n",
      "  File \"C:\\Users\\shubi\\anaconda3\\lib\\site-packages\\telebot\\__init__.py\", line 623, in get_updates\n",
      "    json_updates = apihelper.get_updates(self.token, offset, limit, timeout, allowed_updates, long_polling_timeout)\n",
      "  File \"C:\\Users\\shubi\\anaconda3\\lib\\site-packages\\telebot\\apihelper.py\", line 321, in get_updates\n",
      "    return _make_request(token, method_url, params=payload)\n",
      "  File \"C:\\Users\\shubi\\anaconda3\\lib\\site-packages\\telebot\\apihelper.py\", line 162, in _make_request\n",
      "    json_result = _check_result(method_name, result)\n",
      "  File \"C:\\Users\\shubi\\anaconda3\\lib\\site-packages\\telebot\\apihelper.py\", line 189, in _check_result\n",
      "    raise ApiTelegramException(method_name, result, result_json)\n",
      "telebot.apihelper.ApiTelegramException: A request to the Telegram API was unsuccessful. Error code: 409. Description: Conflict: terminated by other getUpdates request; make sure that only one bot instance is running\n",
      "\"\n",
      "2023-05-02 10:31:17,639 (__init__.py:1083 MainThread) ERROR - TeleBot: \"Threaded polling exception: A request to the Telegram API was unsuccessful. Error code: 409. Description: Conflict: terminated by other getUpdates request; make sure that only one bot instance is running\"\n",
      "2023-05-02 10:31:17,640 (__init__.py:1085 MainThread) ERROR - TeleBot: \"Exception traceback:\n",
      "Traceback (most recent call last):\n",
      "  File \"C:\\Users\\shubi\\anaconda3\\lib\\site-packages\\telebot\\__init__.py\", line 1073, in __threaded_polling\n",
      "    polling_thread.raise_exceptions()\n",
      "  File \"C:\\Users\\shubi\\anaconda3\\lib\\site-packages\\telebot\\util.py\", line 108, in raise_exceptions\n",
      "    raise self.exception_info\n",
      "  File \"C:\\Users\\shubi\\anaconda3\\lib\\site-packages\\telebot\\util.py\", line 90, in run\n",
      "    task(*args, **kwargs)\n",
      "  File \"C:\\Users\\shubi\\anaconda3\\lib\\site-packages\\telebot\\__init__.py\", line 649, in __retrieve_updates\n",
      "    updates = self.get_updates(offset=(self.last_update_id + 1),\n",
      "  File \"C:\\Users\\shubi\\anaconda3\\lib\\site-packages\\telebot\\__init__.py\", line 623, in get_updates\n",
      "    json_updates = apihelper.get_updates(self.token, offset, limit, timeout, allowed_updates, long_polling_timeout)\n",
      "  File \"C:\\Users\\shubi\\anaconda3\\lib\\site-packages\\telebot\\apihelper.py\", line 321, in get_updates\n",
      "    return _make_request(token, method_url, params=payload)\n",
      "  File \"C:\\Users\\shubi\\anaconda3\\lib\\site-packages\\telebot\\apihelper.py\", line 162, in _make_request\n",
      "    json_result = _check_result(method_name, result)\n",
      "  File \"C:\\Users\\shubi\\anaconda3\\lib\\site-packages\\telebot\\apihelper.py\", line 189, in _check_result\n",
      "    raise ApiTelegramException(method_name, result, result_json)\n",
      "telebot.apihelper.ApiTelegramException: A request to the Telegram API was unsuccessful. Error code: 409. Description: Conflict: terminated by other getUpdates request; make sure that only one bot instance is running\n",
      "\"\n"
     ]
    }
   ],
   "source": [
    "bot.polling(none_stop=True, interval=0)"
   ]
  },
  {
   "cell_type": "code",
   "execution_count": 1,
   "id": "74655723",
   "metadata": {},
   "outputs": [],
   "source": [
    "import pandas as pd"
   ]
  },
  {
   "cell_type": "code",
   "execution_count": 2,
   "id": "da972fac",
   "metadata": {},
   "outputs": [
    {
     "data": {
      "text/html": [
       "<div>\n",
       "<style scoped>\n",
       "    .dataframe tbody tr th:only-of-type {\n",
       "        vertical-align: middle;\n",
       "    }\n",
       "\n",
       "    .dataframe tbody tr th {\n",
       "        vertical-align: top;\n",
       "    }\n",
       "\n",
       "    .dataframe thead th {\n",
       "        text-align: right;\n",
       "    }\n",
       "</style>\n",
       "<table border=\"1\" class=\"dataframe\">\n",
       "  <thead>\n",
       "    <tr style=\"text-align: right;\">\n",
       "      <th></th>\n",
       "      <th>eng</th>\n",
       "      <th>rus</th>\n",
       "    </tr>\n",
       "  </thead>\n",
       "  <tbody>\n",
       "    <tr>\n",
       "      <th>0</th>\n",
       "      <td>fly</td>\n",
       "      <td>летать</td>\n",
       "    </tr>\n",
       "    <tr>\n",
       "      <th>1</th>\n",
       "      <td>pilot</td>\n",
       "      <td>пилот</td>\n",
       "    </tr>\n",
       "    <tr>\n",
       "      <th>2</th>\n",
       "      <td>hospital</td>\n",
       "      <td>больница</td>\n",
       "    </tr>\n",
       "    <tr>\n",
       "      <th>3</th>\n",
       "      <td>estate</td>\n",
       "      <td>поместье, имущество, сословие</td>\n",
       "    </tr>\n",
       "    <tr>\n",
       "      <th>4</th>\n",
       "      <td>apartment</td>\n",
       "      <td>квартира</td>\n",
       "    </tr>\n",
       "  </tbody>\n",
       "</table>\n",
       "</div>"
      ],
      "text/plain": [
       "         eng                            rus\n",
       "0        fly                         летать\n",
       "1      pilot                          пилот\n",
       "2   hospital                       больница\n",
       "3     estate  поместье, имущество, сословие\n",
       "4  apartment                       квартира"
      ]
     },
     "execution_count": 2,
     "metadata": {},
     "output_type": "execute_result"
    }
   ],
   "source": [
    "df = pd.read_excel('data/eng_rus_dict.xlsx', header=None, names=['eng', 'rus'])\n",
    "df.head()"
   ]
  },
  {
   "cell_type": "code",
   "execution_count": 3,
   "id": "108c44c0",
   "metadata": {},
   "outputs": [
    {
     "data": {
      "text/plain": [
       "'border'"
      ]
     },
     "execution_count": 3,
     "metadata": {},
     "output_type": "execute_result"
    }
   ],
   "source": [
    "df.iloc[100]['eng']"
   ]
  },
  {
   "cell_type": "code",
   "execution_count": 6,
   "id": "4c9fd1a2",
   "metadata": {},
   "outputs": [
    {
     "data": {
      "text/plain": [
       "True"
      ]
     },
     "execution_count": 6,
     "metadata": {},
     "output_type": "execute_result"
    }
   ],
   "source": [
    "'border' in df['eng'].tolist()"
   ]
  },
  {
   "cell_type": "code",
   "execution_count": 8,
   "id": "f4aab084",
   "metadata": {},
   "outputs": [
    {
     "data": {
      "text/plain": [
       "100"
      ]
     },
     "execution_count": 8,
     "metadata": {},
     "output_type": "execute_result"
    }
   ],
   "source": [
    "df['eng'].tolist().index('border')"
   ]
  },
  {
   "cell_type": "code",
   "execution_count": null,
   "id": "144df241",
   "metadata": {},
   "outputs": [],
   "source": []
  }
 ],
 "metadata": {
  "kernelspec": {
   "display_name": "Python 3 (ipykernel)",
   "language": "python",
   "name": "python3"
  },
  "language_info": {
   "codemirror_mode": {
    "name": "ipython",
    "version": 3
   },
   "file_extension": ".py",
   "mimetype": "text/x-python",
   "name": "python",
   "nbconvert_exporter": "python",
   "pygments_lexer": "ipython3",
   "version": "3.9.12"
  }
 },
 "nbformat": 4,
 "nbformat_minor": 5
}
